{
 "cells": [
  {
   "cell_type": "code",
   "execution_count": 1,
   "metadata": {},
   "outputs": [],
   "source": [
    "import matplotlib.pyplot as plt\n",
    "import matplotlib.image as img\n",
    "import numpy as np\n",
    "import os\n",
    "import collections\n",
    "from collections import defaultdict\n",
    "from shutil import copy\n",
    "from shutil import copytree, rmtree\n",
    "import matplotlib.pyplot as plt\n",
    "\n",
    "import torch\n",
    "from torch import nn\n",
    "from torch import optim\n",
    "import torch.nn.functional as F\n",
    "from torchvision import datasets, transforms, models\n",
    "from tqdm import tqdm\n"
   ]
  },
  {
   "cell_type": "code",
   "execution_count": 2,
   "metadata": {},
   "outputs": [
    {
     "data": {
      "text/plain": [
       "['test', 'README.txt', 'train', 'meta', 'images', 'train_mini', 'test_mini']"
      ]
     },
     "execution_count": 2,
     "metadata": {},
     "output_type": "execute_result"
    }
   ],
   "source": [
    "os.listdir('food-101/food-101/')"
   ]
  },
  {
   "cell_type": "code",
   "execution_count": 3,
   "metadata": {},
   "outputs": [],
   "source": [
    "src_train = 'food-101/food-101/train'\n",
    "src_test = 'food-101/food-101/test'\n",
    "torch.set_default_tensor_type(torch.cuda.FloatTensor)"
   ]
  },
  {
   "cell_type": "code",
   "execution_count": 4,
   "metadata": {},
   "outputs": [],
   "source": [
    "\n",
    "# TODO: Define transforms for the training data and testing data\n",
    "train_transforms = transforms.Compose([transforms.RandomRotation(30),\n",
    "                                       transforms.RandomResizedCrop(224),\n",
    "                                       transforms.RandomHorizontalFlip(),#ImageNetPolicy(),\n",
    "                                       transforms.ToTensor(),\n",
    "                                       transforms.Normalize([0.485, 0.456, 0.406],\n",
    "                                                            [0.229, 0.224, 0.225])])\n",
    "\n",
    "test_transforms = transforms.Compose([transforms.Resize(255),\n",
    "                                      transforms.CenterCrop(224),\n",
    "                                      transforms.ToTensor(),\n",
    "                                      transforms.Normalize([0.485, 0.456, 0.406],\n",
    "                                                           [0.229, 0.224, 0.225])])\n",
    "\n",
    "# Pass transforms in here, then run the next cell to see how the transforms look\n",
    "train_data = datasets.ImageFolder(src_train, transform=train_transforms)\n",
    "test_data = datasets.ImageFolder(src_test, transform=test_transforms)\n",
    "testdata=datasets.ImageFolder(src_test, transform=test_transforms)\n",
    "\n",
    "trainloader = torch.utils.data.DataLoader(train_data, batch_size=128, shuffle=True)\n",
    "testloader = torch.utils.data.DataLoader(test_data, batch_size=128)"
   ]
  },
  {
   "cell_type": "code",
   "execution_count": 5,
   "metadata": {},
   "outputs": [
    {
     "data": {
      "text/plain": [
       "592"
      ]
     },
     "execution_count": 5,
     "metadata": {},
     "output_type": "execute_result"
    }
   ],
   "source": [
    "len(trainloader)"
   ]
  },
  {
   "cell_type": "code",
   "execution_count": 6,
   "metadata": {},
   "outputs": [
    {
     "data": {
      "text/plain": [
       "ResNet(\n",
       "  (conv1): Conv2d(3, 64, kernel_size=(7, 7), stride=(2, 2), padding=(3, 3), bias=False)\n",
       "  (bn1): BatchNorm2d(64, eps=1e-05, momentum=0.1, affine=True, track_running_stats=True)\n",
       "  (relu): ReLU(inplace=True)\n",
       "  (maxpool): MaxPool2d(kernel_size=3, stride=2, padding=1, dilation=1, ceil_mode=False)\n",
       "  (layer1): Sequential(\n",
       "    (0): BasicBlock(\n",
       "      (conv1): Conv2d(64, 64, kernel_size=(3, 3), stride=(1, 1), padding=(1, 1), bias=False)\n",
       "      (bn1): BatchNorm2d(64, eps=1e-05, momentum=0.1, affine=True, track_running_stats=True)\n",
       "      (relu): ReLU(inplace=True)\n",
       "      (conv2): Conv2d(64, 64, kernel_size=(3, 3), stride=(1, 1), padding=(1, 1), bias=False)\n",
       "      (bn2): BatchNorm2d(64, eps=1e-05, momentum=0.1, affine=True, track_running_stats=True)\n",
       "    )\n",
       "    (1): BasicBlock(\n",
       "      (conv1): Conv2d(64, 64, kernel_size=(3, 3), stride=(1, 1), padding=(1, 1), bias=False)\n",
       "      (bn1): BatchNorm2d(64, eps=1e-05, momentum=0.1, affine=True, track_running_stats=True)\n",
       "      (relu): ReLU(inplace=True)\n",
       "      (conv2): Conv2d(64, 64, kernel_size=(3, 3), stride=(1, 1), padding=(1, 1), bias=False)\n",
       "      (bn2): BatchNorm2d(64, eps=1e-05, momentum=0.1, affine=True, track_running_stats=True)\n",
       "    )\n",
       "  )\n",
       "  (layer2): Sequential(\n",
       "    (0): BasicBlock(\n",
       "      (conv1): Conv2d(64, 128, kernel_size=(3, 3), stride=(2, 2), padding=(1, 1), bias=False)\n",
       "      (bn1): BatchNorm2d(128, eps=1e-05, momentum=0.1, affine=True, track_running_stats=True)\n",
       "      (relu): ReLU(inplace=True)\n",
       "      (conv2): Conv2d(128, 128, kernel_size=(3, 3), stride=(1, 1), padding=(1, 1), bias=False)\n",
       "      (bn2): BatchNorm2d(128, eps=1e-05, momentum=0.1, affine=True, track_running_stats=True)\n",
       "      (downsample): Sequential(\n",
       "        (0): Conv2d(64, 128, kernel_size=(1, 1), stride=(2, 2), bias=False)\n",
       "        (1): BatchNorm2d(128, eps=1e-05, momentum=0.1, affine=True, track_running_stats=True)\n",
       "      )\n",
       "    )\n",
       "    (1): BasicBlock(\n",
       "      (conv1): Conv2d(128, 128, kernel_size=(3, 3), stride=(1, 1), padding=(1, 1), bias=False)\n",
       "      (bn1): BatchNorm2d(128, eps=1e-05, momentum=0.1, affine=True, track_running_stats=True)\n",
       "      (relu): ReLU(inplace=True)\n",
       "      (conv2): Conv2d(128, 128, kernel_size=(3, 3), stride=(1, 1), padding=(1, 1), bias=False)\n",
       "      (bn2): BatchNorm2d(128, eps=1e-05, momentum=0.1, affine=True, track_running_stats=True)\n",
       "    )\n",
       "  )\n",
       "  (layer3): Sequential(\n",
       "    (0): BasicBlock(\n",
       "      (conv1): Conv2d(128, 256, kernel_size=(3, 3), stride=(2, 2), padding=(1, 1), bias=False)\n",
       "      (bn1): BatchNorm2d(256, eps=1e-05, momentum=0.1, affine=True, track_running_stats=True)\n",
       "      (relu): ReLU(inplace=True)\n",
       "      (conv2): Conv2d(256, 256, kernel_size=(3, 3), stride=(1, 1), padding=(1, 1), bias=False)\n",
       "      (bn2): BatchNorm2d(256, eps=1e-05, momentum=0.1, affine=True, track_running_stats=True)\n",
       "      (downsample): Sequential(\n",
       "        (0): Conv2d(128, 256, kernel_size=(1, 1), stride=(2, 2), bias=False)\n",
       "        (1): BatchNorm2d(256, eps=1e-05, momentum=0.1, affine=True, track_running_stats=True)\n",
       "      )\n",
       "    )\n",
       "    (1): BasicBlock(\n",
       "      (conv1): Conv2d(256, 256, kernel_size=(3, 3), stride=(1, 1), padding=(1, 1), bias=False)\n",
       "      (bn1): BatchNorm2d(256, eps=1e-05, momentum=0.1, affine=True, track_running_stats=True)\n",
       "      (relu): ReLU(inplace=True)\n",
       "      (conv2): Conv2d(256, 256, kernel_size=(3, 3), stride=(1, 1), padding=(1, 1), bias=False)\n",
       "      (bn2): BatchNorm2d(256, eps=1e-05, momentum=0.1, affine=True, track_running_stats=True)\n",
       "    )\n",
       "  )\n",
       "  (layer4): Sequential(\n",
       "    (0): BasicBlock(\n",
       "      (conv1): Conv2d(256, 512, kernel_size=(3, 3), stride=(2, 2), padding=(1, 1), bias=False)\n",
       "      (bn1): BatchNorm2d(512, eps=1e-05, momentum=0.1, affine=True, track_running_stats=True)\n",
       "      (relu): ReLU(inplace=True)\n",
       "      (conv2): Conv2d(512, 512, kernel_size=(3, 3), stride=(1, 1), padding=(1, 1), bias=False)\n",
       "      (bn2): BatchNorm2d(512, eps=1e-05, momentum=0.1, affine=True, track_running_stats=True)\n",
       "      (downsample): Sequential(\n",
       "        (0): Conv2d(256, 512, kernel_size=(1, 1), stride=(2, 2), bias=False)\n",
       "        (1): BatchNorm2d(512, eps=1e-05, momentum=0.1, affine=True, track_running_stats=True)\n",
       "      )\n",
       "    )\n",
       "    (1): BasicBlock(\n",
       "      (conv1): Conv2d(512, 512, kernel_size=(3, 3), stride=(1, 1), padding=(1, 1), bias=False)\n",
       "      (bn1): BatchNorm2d(512, eps=1e-05, momentum=0.1, affine=True, track_running_stats=True)\n",
       "      (relu): ReLU(inplace=True)\n",
       "      (conv2): Conv2d(512, 512, kernel_size=(3, 3), stride=(1, 1), padding=(1, 1), bias=False)\n",
       "      (bn2): BatchNorm2d(512, eps=1e-05, momentum=0.1, affine=True, track_running_stats=True)\n",
       "    )\n",
       "  )\n",
       "  (avgpool): AdaptiveAvgPool2d(output_size=(1, 1))\n",
       "  (fc): Linear(in_features=512, out_features=1000, bias=True)\n",
       ")"
      ]
     },
     "execution_count": 6,
     "metadata": {},
     "output_type": "execute_result"
    }
   ],
   "source": [
    "model =models.resnet18(pretrained=True)\n",
    "model"
   ]
  },
  {
   "cell_type": "code",
   "execution_count": 7,
   "metadata": {},
   "outputs": [],
   "source": [
    "for param in model.parameters():\n",
    "    param.requires_grad = True\n",
    "\n",
    "from collections import OrderedDict\n",
    "classifier = nn.Sequential(OrderedDict([\n",
    "                          ('fc1', nn.Linear(1024, 500)),\n",
    "                          ('relu', nn.ReLU()),\n",
    "                          ('fc2', nn.Linear(500, 101)),\n",
    "                          ('output', nn.LogSoftmax(dim=1))\n",
    "                          ]))\n",
    "    \n",
    "model.classifier = classifier"
   ]
  },
  {
   "cell_type": "code",
   "execution_count": 8,
   "metadata": {},
   "outputs": [],
   "source": [
    "import time"
   ]
  },
  {
   "cell_type": "code",
   "execution_count": 9,
   "metadata": {},
   "outputs": [
    {
     "name": "stdout",
     "output_type": "stream",
     "text": [
      "Device = cuda:1; Time per batch: 0.008 seconds\n"
     ]
    }
   ],
   "source": [
    "for device in ['cuda:1']:\n",
    "\n",
    "    criterion = nn.NLLLoss()\n",
    "    # Only train the classifier parameters, feature parameters are frozen\n",
    "    optimizer = optim.Adam(model.parameters(), lr=0.001)\n",
    "\n",
    "    model.to(device)\n",
    "\n",
    "    for ii, (inputs, labels) in enumerate(trainloader):\n",
    "\n",
    "        # Move input and label tensors to the GPU\n",
    "        inputs, labels = inputs.to(device), labels.to(device)\n",
    "\n",
    "        start = time.time()\n",
    "\n",
    "        outputs = model.forward(inputs)\n",
    "        loss = criterion(outputs, labels)\n",
    "        loss.backward()\n",
    "        optimizer.step()\n",
    "\n",
    "        if ii==3:\n",
    "            break\n",
    "        \n",
    "    print(f\"Device = {device}; Time per batch: {(time.time() - start)/3:.3f} seconds\")\n"
   ]
  },
  {
   "cell_type": "code",
   "execution_count": 10,
   "metadata": {},
   "outputs": [],
   "source": [
    "device = torch.device(\"cuda:1\" if torch.cuda.is_available() else \"cpu\")\n",
    "\n",
    "#training the full model\n",
    "for param in model.parameters():\n",
    "    param.requires_grad = True\n",
    "\n",
    "model.classifier = nn.Sequential(nn.Linear(1024,512),nn.LeakyReLU(),nn.Linear(512,256),nn.LeakyReLU(),nn.Linear(256,101))\n",
    "\n",
    "criterion = nn.CrossEntropyLoss()"
   ]
  },
  {
   "cell_type": "code",
   "execution_count": 11,
   "metadata": {},
   "outputs": [],
   "source": [
    "optimizer = optim.Adam(model.parameters(), lr=0.001, betas=[0.9, 0.999])\n",
    "# optimizer = optim.Adam(model.classifier.parameters(), lr=0.001, betas=[0.9, 0.999])"
   ]
  },
  {
   "cell_type": "code",
   "execution_count": 13,
   "metadata": {},
   "outputs": [],
   "source": [
    "import numpy as np\n",
    "import time\n",
    "def train(n_epochs,trainloader,testloader, resnet, optimizer, criterion, save_path):\n",
    "    \"\"\"returns trained model\"\"\"\n",
    "    # initialize tracker for minimum validation loss\n",
    "    valid_loss_min = np.Inf \n",
    "    running_loss=0\n",
    "    train_loss = []\n",
    "    val_loss = []\n",
    "    accu = []\n",
    "    val_accu = []\n",
    "  \n",
    "    for epoch in range(n_epochs):\n",
    "        start_epoch = time.time()\n",
    "        \n",
    "        train_accuracy = 0\n",
    "        for inputs, labels in tqdm(trainloader):\n",
    "            \n",
    "        # Move input and label tensors to the default device\n",
    "            inputs, labels = inputs.to(device), labels.to(device)\n",
    "            optimizer.zero_grad()\n",
    "            start = time.time()\n",
    "            logps = resnet(inputs)\n",
    "            loss = criterion(logps, labels)\n",
    "            top_p, top_class = logps.topk(1, dim=1)\n",
    "            equals = top_class == labels.view(*top_class.shape)\n",
    "            train_accuracy += torch.mean(equals.type(torch.FloatTensor)).item()\n",
    "            loss.backward()\n",
    "            optimizer.step()\n",
    "        \n",
    "            running_loss += loss.item()\n",
    "            \n",
    "#             if(True):\n",
    "#                 break\n",
    "        train_loss.append(running_loss/len(trainloader))\n",
    "        accu.append(train_accuracy/len(trainloader))\n",
    "        \n",
    "        resnet.eval()\n",
    "        valid_loss=0\n",
    "        valid_accuracy=0\n",
    "        with torch.no_grad():\n",
    "            for inputs, labels in tqdm(testloader):\n",
    "                inputs, labels = inputs.to(device), labels.to(device)\n",
    "                logps = resnet(inputs)\n",
    "                batch_loss = criterion(logps, labels)\n",
    "                valid_loss += batch_loss.item()\n",
    "                    \n",
    "                    # Calculate accuracy\n",
    "                \n",
    "                top_p, top_class = logps.topk(1, dim=1)\n",
    "                equals = top_class == labels.view(*top_class.shape)\n",
    "                valid_accuracy += torch.mean(equals.type(torch.FloatTensor)).item()\n",
    "        \n",
    "            if valid_loss <= valid_loss_min:\n",
    "                print(\"Validation loss decreased  Saving model\")\n",
    "                torch.save(resnet.state_dict(),'food_classifier_resnet18.pt')\n",
    "                valid_loss_min=valid_loss\n",
    "                \n",
    "                    \n",
    "                \n",
    "                  \n",
    "                \n",
    "                \n",
    "                   \n",
    "            val_loss.append(valid_loss/len(testloader))\n",
    "            val_accu.append(valid_accuracy/len(testloader))\n",
    "            \n",
    "            print(f\"Device = cuda; Time per batch: {(time.time() - start):.3f} seconds\")       \n",
    "            print(f\"Device = cuda; Time per epoch: {(time.time() - start_epoch)/60:.3f} minutes\")       \n",
    "            print(f\"Epoch {epoch}/{n_epochs}.. \"\n",
    "                  f\"Train loss: {running_loss/len(trainloader):.3f}.. \"\n",
    "                  f\"Test loss: {valid_loss/len(testloader):.3f}.. \"\n",
    "                  f\"Train accuracy: {train_accuracy/len(trainloader):.3f}..\"\n",
    "                  f\"Test accuracy: {valid_accuracy/len(testloader):.3f}\")\n",
    "            running_loss = 0\n",
    "            resnet.train()\n",
    "    return train_loss, val_loss, accu, val_accu"
   ]
  },
  {
   "cell_type": "code",
   "execution_count": 14,
   "metadata": {},
   "outputs": [
    {
     "name": "stderr",
     "output_type": "stream",
     "text": [
      "100%|██████████| 592/592 [11:12<00:00,  1.14s/it]\n",
      "100%|██████████| 198/198 [03:26<00:00,  1.04s/it]\n",
      "  0%|          | 0/592 [00:00<?, ?it/s]"
     ]
    },
    {
     "name": "stdout",
     "output_type": "stream",
     "text": [
      "Validation loss decreased  Saving model\n",
      "Device = cuda; Time per batch: 206.433 seconds\n",
      "Device = cuda; Time per epoch: 14.646 minutes\n",
      "Epoch 0/30.. Train loss: 2.847.. Test loss: 1.941.. Train accuracy: 0.329..Test accuracy: 0.496\n"
     ]
    },
    {
     "name": "stderr",
     "output_type": "stream",
     "text": [
      "100%|██████████| 592/592 [12:08<00:00,  1.23s/it]\n",
      "100%|██████████| 198/198 [03:28<00:00,  1.05s/it]\n",
      "  0%|          | 0/592 [00:00<?, ?it/s]"
     ]
    },
    {
     "name": "stdout",
     "output_type": "stream",
     "text": [
      "Validation loss decreased  Saving model\n",
      "Device = cuda; Time per batch: 208.686 seconds\n",
      "Device = cuda; Time per epoch: 15.619 minutes\n",
      "Epoch 1/30.. Train loss: 2.098.. Test loss: 1.595.. Train accuracy: 0.479..Test accuracy: 0.579\n"
     ]
    },
    {
     "name": "stderr",
     "output_type": "stream",
     "text": [
      "100%|██████████| 592/592 [11:12<00:00,  1.14s/it]\n",
      "100%|██████████| 198/198 [03:26<00:00,  1.05s/it]\n",
      "  0%|          | 0/592 [00:00<?, ?it/s]"
     ]
    },
    {
     "name": "stdout",
     "output_type": "stream",
     "text": [
      "Validation loss decreased  Saving model\n",
      "Device = cuda; Time per batch: 207.222 seconds\n",
      "Device = cuda; Time per epoch: 14.660 minutes\n",
      "Epoch 2/30.. Train loss: 1.853.. Test loss: 1.316.. Train accuracy: 0.533..Test accuracy: 0.649\n"
     ]
    },
    {
     "name": "stderr",
     "output_type": "stream",
     "text": [
      "100%|██████████| 592/592 [11:08<00:00,  1.13s/it]\n",
      "100%|██████████| 198/198 [04:19<00:00,  1.31s/it]\n",
      "  0%|          | 0/592 [00:00<?, ?it/s]"
     ]
    },
    {
     "name": "stdout",
     "output_type": "stream",
     "text": [
      "Validation loss decreased  Saving model\n",
      "Device = cuda; Time per batch: 259.600 seconds\n",
      "Device = cuda; Time per epoch: 15.469 minutes\n",
      "Epoch 3/30.. Train loss: 1.721.. Test loss: 1.163.. Train accuracy: 0.564..Test accuracy: 0.689\n"
     ]
    },
    {
     "name": "stderr",
     "output_type": "stream",
     "text": [
      "100%|██████████| 592/592 [11:08<00:00,  1.13s/it]\n",
      "100%|██████████| 198/198 [03:27<00:00,  1.05s/it]\n",
      "  0%|          | 0/592 [00:00<?, ?it/s]"
     ]
    },
    {
     "name": "stdout",
     "output_type": "stream",
     "text": [
      "Device = cuda; Time per batch: 208.048 seconds\n",
      "Device = cuda; Time per epoch: 14.607 minutes\n",
      "Epoch 4/30.. Train loss: 1.610.. Test loss: 1.224.. Train accuracy: 0.591..Test accuracy: 0.677\n"
     ]
    },
    {
     "name": "stderr",
     "output_type": "stream",
     "text": [
      "100%|██████████| 592/592 [11:13<00:00,  1.14s/it]\n",
      "100%|██████████| 198/198 [03:29<00:00,  1.06s/it]\n",
      "  0%|          | 0/592 [00:00<?, ?it/s]"
     ]
    },
    {
     "name": "stdout",
     "output_type": "stream",
     "text": [
      "Validation loss decreased  Saving model\n",
      "Device = cuda; Time per batch: 209.870 seconds\n",
      "Device = cuda; Time per epoch: 14.718 minutes\n",
      "Epoch 5/30.. Train loss: 1.532.. Test loss: 1.049.. Train accuracy: 0.611..Test accuracy: 0.717\n"
     ]
    },
    {
     "name": "stderr",
     "output_type": "stream",
     "text": [
      "100%|██████████| 592/592 [10:33<00:00,  1.07s/it]\n",
      "100%|██████████| 198/198 [02:56<00:00,  1.12it/s]\n",
      "  0%|          | 0/592 [00:00<?, ?it/s]"
     ]
    },
    {
     "name": "stdout",
     "output_type": "stream",
     "text": [
      "Device = cuda; Time per batch: 177.014 seconds\n",
      "Device = cuda; Time per epoch: 13.500 minutes\n",
      "Epoch 6/30.. Train loss: 1.460.. Test loss: 1.068.. Train accuracy: 0.626..Test accuracy: 0.709\n"
     ]
    },
    {
     "name": "stderr",
     "output_type": "stream",
     "text": [
      "100%|██████████| 592/592 [09:38<00:00,  1.02it/s]\n",
      "100%|██████████| 198/198 [03:06<00:00,  1.06it/s]\n",
      "  0%|          | 0/592 [00:00<?, ?it/s]"
     ]
    },
    {
     "name": "stdout",
     "output_type": "stream",
     "text": [
      "Validation loss decreased  Saving model\n",
      "Device = cuda; Time per batch: 186.650 seconds\n",
      "Device = cuda; Time per epoch: 12.759 minutes\n",
      "Epoch 7/30.. Train loss: 1.404.. Test loss: 0.990.. Train accuracy: 0.640..Test accuracy: 0.735\n"
     ]
    },
    {
     "name": "stderr",
     "output_type": "stream",
     "text": [
      "100%|██████████| 592/592 [09:37<00:00,  1.02it/s]\n",
      "100%|██████████| 198/198 [02:57<00:00,  1.12it/s]\n",
      "  0%|          | 0/592 [00:00<?, ?it/s]"
     ]
    },
    {
     "name": "stdout",
     "output_type": "stream",
     "text": [
      "Device = cuda; Time per batch: 177.548 seconds\n",
      "Device = cuda; Time per epoch: 12.586 minutes\n",
      "Epoch 8/30.. Train loss: 1.356.. Test loss: 1.015.. Train accuracy: 0.651..Test accuracy: 0.726\n"
     ]
    },
    {
     "name": "stderr",
     "output_type": "stream",
     "text": [
      "100%|██████████| 592/592 [09:46<00:00,  1.01it/s]\n",
      "100%|██████████| 198/198 [02:56<00:00,  1.12it/s]\n",
      "  0%|          | 0/592 [00:00<?, ?it/s]"
     ]
    },
    {
     "name": "stdout",
     "output_type": "stream",
     "text": [
      "Validation loss decreased  Saving model\n",
      "Device = cuda; Time per batch: 177.158 seconds\n",
      "Device = cuda; Time per epoch: 12.728 minutes\n",
      "Epoch 9/30.. Train loss: 1.307.. Test loss: 0.980.. Train accuracy: 0.662..Test accuracy: 0.737\n"
     ]
    },
    {
     "name": "stderr",
     "output_type": "stream",
     "text": [
      "100%|██████████| 592/592 [09:40<00:00,  1.02it/s]\n",
      "100%|██████████| 198/198 [03:04<00:00,  1.07it/s]\n",
      "  0%|          | 0/592 [00:00<?, ?it/s]"
     ]
    },
    {
     "name": "stdout",
     "output_type": "stream",
     "text": [
      "Device = cuda; Time per batch: 185.077 seconds\n",
      "Device = cuda; Time per epoch: 12.763 minutes\n",
      "Epoch 10/30.. Train loss: 1.256.. Test loss: 0.985.. Train accuracy: 0.672..Test accuracy: 0.737\n"
     ]
    },
    {
     "name": "stderr",
     "output_type": "stream",
     "text": [
      "100%|██████████| 592/592 [09:17<00:00,  1.06it/s]\n",
      "100%|██████████| 198/198 [02:57<00:00,  1.12it/s]\n",
      "  0%|          | 0/592 [00:00<?, ?it/s]"
     ]
    },
    {
     "name": "stdout",
     "output_type": "stream",
     "text": [
      "Validation loss decreased  Saving model\n",
      "Device = cuda; Time per batch: 177.467 seconds\n",
      "Device = cuda; Time per epoch: 12.255 minutes\n",
      "Epoch 11/30.. Train loss: 1.219.. Test loss: 0.977.. Train accuracy: 0.683..Test accuracy: 0.738\n"
     ]
    },
    {
     "name": "stderr",
     "output_type": "stream",
     "text": [
      "100%|██████████| 592/592 [09:35<00:00,  1.03it/s]\n",
      "100%|██████████| 198/198 [03:02<00:00,  1.08it/s]\n",
      "  0%|          | 0/592 [00:00<?, ?it/s]"
     ]
    },
    {
     "name": "stdout",
     "output_type": "stream",
     "text": [
      "Validation loss decreased  Saving model\n",
      "Device = cuda; Time per batch: 182.753 seconds\n",
      "Device = cuda; Time per epoch: 12.632 minutes\n",
      "Epoch 12/30.. Train loss: 1.186.. Test loss: 0.907.. Train accuracy: 0.688..Test accuracy: 0.754\n"
     ]
    },
    {
     "name": "stderr",
     "output_type": "stream",
     "text": [
      "100%|██████████| 592/592 [09:33<00:00,  1.03it/s]\n",
      "100%|██████████| 198/198 [02:58<00:00,  1.11it/s]\n",
      "  0%|          | 0/592 [00:00<?, ?it/s]"
     ]
    },
    {
     "name": "stdout",
     "output_type": "stream",
     "text": [
      "Validation loss decreased  Saving model\n",
      "Device = cuda; Time per batch: 179.166 seconds\n",
      "Device = cuda; Time per epoch: 12.539 minutes\n",
      "Epoch 13/30.. Train loss: 1.155.. Test loss: 0.898.. Train accuracy: 0.697..Test accuracy: 0.758\n"
     ]
    },
    {
     "name": "stderr",
     "output_type": "stream",
     "text": [
      "100%|██████████| 592/592 [09:38<00:00,  1.02it/s]\n",
      "100%|██████████| 198/198 [03:00<00:00,  1.10it/s]\n",
      "  0%|          | 0/592 [00:00<?, ?it/s]"
     ]
    },
    {
     "name": "stdout",
     "output_type": "stream",
     "text": [
      "Device = cuda; Time per batch: 180.411 seconds\n",
      "Device = cuda; Time per epoch: 12.641 minutes\n",
      "Epoch 14/30.. Train loss: 1.114.. Test loss: 0.946.. Train accuracy: 0.706..Test accuracy: 0.753\n"
     ]
    },
    {
     "name": "stderr",
     "output_type": "stream",
     "text": [
      "100%|██████████| 592/592 [09:01<00:00,  1.09it/s]\n",
      "100%|██████████| 198/198 [02:30<00:00,  1.32it/s]\n",
      "  0%|          | 0/592 [00:00<?, ?it/s]"
     ]
    },
    {
     "name": "stdout",
     "output_type": "stream",
     "text": [
      "Validation loss decreased  Saving model\n",
      "Device = cuda; Time per batch: 150.264 seconds\n",
      "Device = cuda; Time per epoch: 11.521 minutes\n",
      "Epoch 15/30.. Train loss: 1.090.. Test loss: 0.881.. Train accuracy: 0.712..Test accuracy: 0.766\n"
     ]
    },
    {
     "name": "stderr",
     "output_type": "stream",
     "text": [
      "100%|██████████| 592/592 [08:13<00:00,  1.20it/s]\n",
      "100%|██████████| 198/198 [02:30<00:00,  1.32it/s]\n",
      "  0%|          | 0/592 [00:00<?, ?it/s]"
     ]
    },
    {
     "name": "stdout",
     "output_type": "stream",
     "text": [
      "Device = cuda; Time per batch: 150.530 seconds\n",
      "Device = cuda; Time per epoch: 10.740 minutes\n",
      "Epoch 16/30.. Train loss: 1.065.. Test loss: 0.926.. Train accuracy: 0.718..Test accuracy: 0.755\n"
     ]
    },
    {
     "name": "stderr",
     "output_type": "stream",
     "text": [
      "100%|██████████| 592/592 [08:38<00:00,  1.14it/s]\n",
      "100%|██████████| 198/198 [03:03<00:00,  1.08it/s]\n",
      "  0%|          | 0/592 [00:00<?, ?it/s]"
     ]
    },
    {
     "name": "stdout",
     "output_type": "stream",
     "text": [
      "Device = cuda; Time per batch: 183.810 seconds\n",
      "Device = cuda; Time per epoch: 11.704 minutes\n",
      "Epoch 17/30.. Train loss: 1.037.. Test loss: 0.909.. Train accuracy: 0.725..Test accuracy: 0.762\n"
     ]
    },
    {
     "name": "stderr",
     "output_type": "stream",
     "text": [
      "100%|██████████| 592/592 [09:53<00:00,  1.00s/it]\n",
      "100%|██████████| 198/198 [03:04<00:00,  1.07it/s]\n",
      "  0%|          | 0/592 [00:00<?, ?it/s]"
     ]
    },
    {
     "name": "stdout",
     "output_type": "stream",
     "text": [
      "Device = cuda; Time per batch: 184.350 seconds\n",
      "Device = cuda; Time per epoch: 12.961 minutes\n",
      "Epoch 18/30.. Train loss: 1.014.. Test loss: 0.921.. Train accuracy: 0.730..Test accuracy: 0.763\n"
     ]
    },
    {
     "name": "stderr",
     "output_type": "stream",
     "text": [
      "100%|██████████| 592/592 [09:57<00:00,  1.01s/it]\n",
      "100%|██████████| 198/198 [03:03<00:00,  1.08it/s]\n",
      "  0%|          | 0/592 [00:00<?, ?it/s]"
     ]
    },
    {
     "name": "stdout",
     "output_type": "stream",
     "text": [
      "Device = cuda; Time per batch: 183.789 seconds\n",
      "Device = cuda; Time per epoch: 13.014 minutes\n",
      "Epoch 19/30.. Train loss: 0.988.. Test loss: 0.892.. Train accuracy: 0.736..Test accuracy: 0.769\n"
     ]
    },
    {
     "name": "stderr",
     "output_type": "stream",
     "text": [
      "100%|██████████| 592/592 [09:54<00:00,  1.00s/it]\n",
      "100%|██████████| 198/198 [03:04<00:00,  1.07it/s]\n",
      "  0%|          | 0/592 [00:00<?, ?it/s]"
     ]
    },
    {
     "name": "stdout",
     "output_type": "stream",
     "text": [
      "Device = cuda; Time per batch: 185.109 seconds\n",
      "Device = cuda; Time per epoch: 12.986 minutes\n",
      "Epoch 20/30.. Train loss: 0.958.. Test loss: 0.909.. Train accuracy: 0.745..Test accuracy: 0.764\n"
     ]
    },
    {
     "name": "stderr",
     "output_type": "stream",
     "text": [
      "100%|██████████| 592/592 [09:53<00:00,  1.00s/it]\n",
      "100%|██████████| 198/198 [03:05<00:00,  1.07it/s]\n",
      "  0%|          | 0/592 [00:00<?, ?it/s]"
     ]
    },
    {
     "name": "stdout",
     "output_type": "stream",
     "text": [
      "Device = cuda; Time per batch: 185.244 seconds\n",
      "Device = cuda; Time per epoch: 12.977 minutes\n",
      "Epoch 21/30.. Train loss: 0.940.. Test loss: 0.907.. Train accuracy: 0.748..Test accuracy: 0.771\n"
     ]
    },
    {
     "name": "stderr",
     "output_type": "stream",
     "text": [
      "100%|██████████| 592/592 [09:52<00:00,  1.00s/it]\n",
      "100%|██████████| 198/198 [03:04<00:00,  1.07it/s]\n",
      "  0%|          | 0/592 [00:00<?, ?it/s]"
     ]
    },
    {
     "name": "stdout",
     "output_type": "stream",
     "text": [
      "Validation loss decreased  Saving model\n",
      "Device = cuda; Time per batch: 185.061 seconds\n",
      "Device = cuda; Time per epoch: 12.960 minutes\n",
      "Epoch 22/30.. Train loss: 0.916.. Test loss: 0.878.. Train accuracy: 0.753..Test accuracy: 0.771\n"
     ]
    },
    {
     "name": "stderr",
     "output_type": "stream",
     "text": [
      "100%|██████████| 592/592 [10:00<00:00,  1.01s/it]\n",
      "100%|██████████| 198/198 [03:03<00:00,  1.08it/s]\n",
      "  0%|          | 0/592 [00:00<?, ?it/s]"
     ]
    },
    {
     "name": "stdout",
     "output_type": "stream",
     "text": [
      "Validation loss decreased  Saving model\n",
      "Device = cuda; Time per batch: 184.013 seconds\n",
      "Device = cuda; Time per epoch: 13.079 minutes\n",
      "Epoch 23/30.. Train loss: 0.904.. Test loss: 0.860.. Train accuracy: 0.758..Test accuracy: 0.779\n"
     ]
    },
    {
     "name": "stderr",
     "output_type": "stream",
     "text": [
      "100%|██████████| 592/592 [09:59<00:00,  1.01s/it]\n",
      "100%|██████████| 198/198 [03:09<00:00,  1.05it/s]\n",
      "  0%|          | 0/592 [00:00<?, ?it/s]"
     ]
    },
    {
     "name": "stdout",
     "output_type": "stream",
     "text": [
      "Device = cuda; Time per batch: 189.344 seconds\n",
      "Device = cuda; Time per epoch: 13.140 minutes\n",
      "Epoch 24/30.. Train loss: 0.883.. Test loss: 0.897.. Train accuracy: 0.762..Test accuracy: 0.772\n"
     ]
    },
    {
     "name": "stderr",
     "output_type": "stream",
     "text": [
      "100%|██████████| 592/592 [09:52<00:00,  1.00s/it]\n",
      "100%|██████████| 198/198 [03:05<00:00,  1.07it/s]\n",
      "  0%|          | 0/592 [00:00<?, ?it/s]"
     ]
    },
    {
     "name": "stdout",
     "output_type": "stream",
     "text": [
      "Device = cuda; Time per batch: 185.245 seconds\n",
      "Device = cuda; Time per epoch: 12.967 minutes\n",
      "Epoch 25/30.. Train loss: 0.862.. Test loss: 0.865.. Train accuracy: 0.766..Test accuracy: 0.776\n"
     ]
    },
    {
     "name": "stderr",
     "output_type": "stream",
     "text": [
      "100%|██████████| 592/592 [09:55<00:00,  1.01s/it]\n",
      "100%|██████████| 198/198 [03:05<00:00,  1.07it/s]\n",
      "  0%|          | 0/592 [00:00<?, ?it/s]"
     ]
    },
    {
     "name": "stdout",
     "output_type": "stream",
     "text": [
      "Device = cuda; Time per batch: 185.287 seconds\n",
      "Device = cuda; Time per epoch: 13.010 minutes\n",
      "Epoch 26/30.. Train loss: 0.840.. Test loss: 0.900.. Train accuracy: 0.773..Test accuracy: 0.773\n"
     ]
    },
    {
     "name": "stderr",
     "output_type": "stream",
     "text": [
      "100%|██████████| 592/592 [09:59<00:00,  1.01s/it]\n",
      "100%|██████████| 198/198 [03:04<00:00,  1.07it/s]\n",
      "  0%|          | 0/592 [00:00<?, ?it/s]"
     ]
    },
    {
     "name": "stdout",
     "output_type": "stream",
     "text": [
      "Device = cuda; Time per batch: 185.017 seconds\n",
      "Device = cuda; Time per epoch: 13.076 minutes\n",
      "Epoch 27/30.. Train loss: 0.821.. Test loss: 0.862.. Train accuracy: 0.778..Test accuracy: 0.783\n"
     ]
    },
    {
     "name": "stderr",
     "output_type": "stream",
     "text": [
      "100%|██████████| 592/592 [09:55<00:00,  1.01s/it]\n",
      "100%|██████████| 198/198 [03:04<00:00,  1.07it/s]\n",
      "  0%|          | 0/592 [00:00<?, ?it/s]"
     ]
    },
    {
     "name": "stdout",
     "output_type": "stream",
     "text": [
      "Device = cuda; Time per batch: 184.375 seconds\n",
      "Device = cuda; Time per epoch: 12.995 minutes\n",
      "Epoch 28/30.. Train loss: 0.812.. Test loss: 0.920.. Train accuracy: 0.780..Test accuracy: 0.769\n"
     ]
    },
    {
     "name": "stderr",
     "output_type": "stream",
     "text": [
      "100%|██████████| 592/592 [09:55<00:00,  1.01s/it]\n",
      "100%|██████████| 198/198 [03:05<00:00,  1.07it/s]"
     ]
    },
    {
     "name": "stdout",
     "output_type": "stream",
     "text": [
      "Device = cuda; Time per batch: 185.431 seconds\n",
      "Device = cuda; Time per epoch: 13.021 minutes\n",
      "Epoch 29/30.. Train loss: 0.799.. Test loss: 0.929.. Train accuracy: 0.785..Test accuracy: 0.772\n"
     ]
    },
    {
     "name": "stderr",
     "output_type": "stream",
     "text": [
      "\n"
     ]
    }
   ],
   "source": [
    "train_loss, val_loss, accu, val_accu = train(30, trainloader, testloader, model, optimizer, criterion,'model_vowel_consonant.pt')"
   ]
  },
  {
   "cell_type": "code",
   "execution_count": 15,
   "metadata": {},
   "outputs": [
    {
     "data": {
      "image/png": "[encoded data removed]",
      "text/plain": [
       "<Figure size 432x288 with 1 Axes>"
      ]
     },
     "metadata": {
      "needs_background": "light"
     },
     "output_type": "display_data"
    },
    {
     "data": {
      "image/png": "[encoded data removed]",
      "text/plain": [
       "<Figure size 432x288 with 1 Axes>"
      ]
     },
     "metadata": {
      "needs_background": "light"
     },
     "output_type": "display_data"
    }
   ],
   "source": [
    "def plot_accuracy(val_acc, train_acc, title):\n",
    "    plt.title(title)\n",
    "    plt.plot(train_acc) \n",
    "    plt.plot(val_acc)\n",
    "    plt.ylabel('accuracy')\n",
    "    plt.xlabel('epoch')\n",
    "    plt.legend(['train_accuracy', 'validation_accuracy'], loc='best')\n",
    "    plt.show()\n",
    "\n",
    "\n",
    "def plot_loss(val_loss, train_loss, title):\n",
    "    plt.title(title)\n",
    "    plt.plot(train_loss)\n",
    "    plt.plot(val_loss)\n",
    "    plt.ylabel('loss')\n",
    "    plt.xlabel('epoch')\n",
    "    plt.legend(['train_loss', 'validation_loss'], loc='best')\n",
    "    plt.show()\n",
    "\n",
    "\n",
    "plot_accuracy(val_accu, accu, 'FOOD101-ResNet18')\n",
    "plot_loss(val_loss, train_loss, 'FOOD101-ResNet18')"
   ]
  },
  {
   "cell_type": "code",
   "execution_count": null,
   "metadata": {},
   "outputs": [],
   "source": []
  }
 ],
 "metadata": {
  "kernelspec": {
   "display_name": "Python 3",
   "language": "python",
   "name": "python3"
  },
  "language_info": {
   "codemirror_mode": {
    "name": "ipython",
    "version": 3
   },
   "file_extension": ".py",
   "mimetype": "text/x-python",
   "name": "python",
   "nbconvert_exporter": "python",
   "pygments_lexer": "ipython3",
   "version": "3.7.4"
  }
 },
 "nbformat": 4,
 "nbformat_minor": 2
}
